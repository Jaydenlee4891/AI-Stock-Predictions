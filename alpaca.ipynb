import alpaca_trade_api as tradeapi

key = "PKBOVFA2LQAB1QPTY5HZ"
secret_key="U9FDVHrHWtKmPOuAunhXpFqb0mCfLjhzTtE7O7k0"
BASE_URL="https://paper-api.alpaca.markets"
